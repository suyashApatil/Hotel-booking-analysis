{
  "nbformat": 4,
  "nbformat_minor": 0,
  "metadata": {
    "kernelspec": {
      "display_name": "Python 3",
      "language": "python",
      "name": "python3"
    },
    "language_info": {
      "codemirror_mode": {
        "name": "ipython",
        "version": 3
      },
      "file_extension": ".py",
      "mimetype": "text/x-python",
      "name": "python",
      "nbconvert_exporter": "python",
      "pygments_lexer": "ipython3",
      "version": "3.6.6"
    },
    "colab": {
      "name": "Copy of Hotel Booking Analysis - Capstone Project.ipynb",
      "provenance": [],
      "include_colab_link": true
    }
  },
  "cells": [
    {
      "cell_type": "markdown",
      "metadata": {
        "id": "view-in-github",
        "colab_type": "text"
      },
      "source": [
        "<a href=\"https://colab.research.google.com/github/suyashApatil/Hotel-booking-analysis/blob/main/Copy_of_Hotel_Booking_Analysis_Capstone_Project.ipynb\" target=\"_parent\"><img src=\"https://colab.research.google.com/assets/colab-badge.svg\" alt=\"Open In Colab\"/></a>"
      ]
    },
    {
      "cell_type": "markdown",
      "metadata": {
        "id": "Y06xIdG26kRF"
      },
      "source": [
        "## <b> Have you ever wondered when the best time of year to book a hotel room is? Or the optimal length of stay in order to get the best daily rate? What if you wanted to predict whether or not a hotel was likely to receive a disproportionately high number of special requests? This hotel booking dataset can help you explore those questions!\n",
        "\n",
        "## <b>This data set contains booking information for a city hotel and a resort hotel, and includes information such as when the booking was made, length of stay, the number of adults, children, and/or babies, and the number of available parking spaces, among other things. All personally identifying information has been removed from the data. </b>\n",
        "\n",
        "## <b> Explore and analyze the data to discover important factors that govern the bookings. </b>"
      ]
    },
    {
      "cell_type": "code",
      "source": [
        "# Importing python libraries\n",
        "import numpy as np\n",
        "import pandas as pd\n",
        "import matplotlib\n",
        "import matplotlib.pyplot as plt\n",
        "import seaborn as sns"
      ],
      "metadata": {
        "id": "_X_UKCl1JYVC"
      },
      "execution_count": 2,
      "outputs": []
    },
    {
      "cell_type": "code",
      "source": [
        "from google.colab import drive\n",
        "drive.mount('/content/drive')"
      ],
      "metadata": {
        "colab": {
          "base_uri": "https://localhost:8080/"
        },
        "id": "eyF-Wpt4GDnK",
        "outputId": "046a95ea-88ac-46c8-a0e9-0b900f6c28c8"
      },
      "execution_count": 3,
      "outputs": [
        {
          "output_type": "stream",
          "name": "stdout",
          "text": [
            "Mounted at /content/drive\n"
          ]
        }
      ]
    },
    {
      "cell_type": "code",
      "metadata": {
        "id": "dByMsuzT8Tnw"
      },
      "source": [
        "working_dir_path = '/content/drive/MyDrive/Colab Notebooks/Projects/Copy of Hotel Bookings.csv'"
      ],
      "execution_count": 4,
      "outputs": []
    },
    {
      "cell_type": "code",
      "source": [
        "hotelbooking_df = pd.read_csv('/content/drive/MyDrive/Colab Notebooks/Projects/Copy of Hotel Bookings.csv')"
      ],
      "metadata": {
        "id": "RG76vtYRIo_B"
      },
      "execution_count": 5,
      "outputs": []
    },
    {
      "cell_type": "code",
      "source": [
        "hotelbooking_df.head()"
      ],
      "metadata": {
        "colab": {
          "base_uri": "https://localhost:8080/",
          "height": 386
        },
        "id": "KDK4vWzTJdV3",
        "outputId": "a8e5b104-3758-4060-b9a0-0b9312e13993"
      },
      "execution_count": 6,
      "outputs": [
        {
          "output_type": "execute_result",
          "data": {
            "text/plain": [
              "          hotel  is_canceled  lead_time  arrival_date_year arrival_date_month  \\\n",
              "0  Resort Hotel            0        342               2015               July   \n",
              "1  Resort Hotel            0        737               2015               July   \n",
              "2  Resort Hotel            0          7               2015               July   \n",
              "3  Resort Hotel            0         13               2015               July   \n",
              "4  Resort Hotel            0         14               2015               July   \n",
              "\n",
              "   arrival_date_week_number  arrival_date_day_of_month  \\\n",
              "0                        27                          1   \n",
              "1                        27                          1   \n",
              "2                        27                          1   \n",
              "3                        27                          1   \n",
              "4                        27                          1   \n",
              "\n",
              "   stays_in_weekend_nights  stays_in_week_nights  adults  ...  deposit_type  \\\n",
              "0                        0                     0       2  ...    No Deposit   \n",
              "1                        0                     0       2  ...    No Deposit   \n",
              "2                        0                     1       1  ...    No Deposit   \n",
              "3                        0                     1       1  ...    No Deposit   \n",
              "4                        0                     2       2  ...    No Deposit   \n",
              "\n",
              "   agent company days_in_waiting_list customer_type   adr  \\\n",
              "0    NaN     NaN                    0     Transient   0.0   \n",
              "1    NaN     NaN                    0     Transient   0.0   \n",
              "2    NaN     NaN                    0     Transient  75.0   \n",
              "3  304.0     NaN                    0     Transient  75.0   \n",
              "4  240.0     NaN                    0     Transient  98.0   \n",
              "\n",
              "   required_car_parking_spaces  total_of_special_requests  reservation_status  \\\n",
              "0                            0                          0           Check-Out   \n",
              "1                            0                          0           Check-Out   \n",
              "2                            0                          0           Check-Out   \n",
              "3                            0                          0           Check-Out   \n",
              "4                            0                          1           Check-Out   \n",
              "\n",
              "  reservation_status_date  \n",
              "0              2015-07-01  \n",
              "1              2015-07-01  \n",
              "2              2015-07-02  \n",
              "3              2015-07-02  \n",
              "4              2015-07-03  \n",
              "\n",
              "[5 rows x 32 columns]"
            ],
            "text/html": [
              "\n",
              "  <div id=\"df-56714d99-e332-4ef2-a3c3-2fe174aacdc2\">\n",
              "    <div class=\"colab-df-container\">\n",
              "      <div>\n",
              "<style scoped>\n",
              "    .dataframe tbody tr th:only-of-type {\n",
              "        vertical-align: middle;\n",
              "    }\n",
              "\n",
              "    .dataframe tbody tr th {\n",
              "        vertical-align: top;\n",
              "    }\n",
              "\n",
              "    .dataframe thead th {\n",
              "        text-align: right;\n",
              "    }\n",
              "</style>\n",
              "<table border=\"1\" class=\"dataframe\">\n",
              "  <thead>\n",
              "    <tr style=\"text-align: right;\">\n",
              "      <th></th>\n",
              "      <th>hotel</th>\n",
              "      <th>is_canceled</th>\n",
              "      <th>lead_time</th>\n",
              "      <th>arrival_date_year</th>\n",
              "      <th>arrival_date_month</th>\n",
              "      <th>arrival_date_week_number</th>\n",
              "      <th>arrival_date_day_of_month</th>\n",
              "      <th>stays_in_weekend_nights</th>\n",
              "      <th>stays_in_week_nights</th>\n",
              "      <th>adults</th>\n",
              "      <th>...</th>\n",
              "      <th>deposit_type</th>\n",
              "      <th>agent</th>\n",
              "      <th>company</th>\n",
              "      <th>days_in_waiting_list</th>\n",
              "      <th>customer_type</th>\n",
              "      <th>adr</th>\n",
              "      <th>required_car_parking_spaces</th>\n",
              "      <th>total_of_special_requests</th>\n",
              "      <th>reservation_status</th>\n",
              "      <th>reservation_status_date</th>\n",
              "    </tr>\n",
              "  </thead>\n",
              "  <tbody>\n",
              "    <tr>\n",
              "      <th>0</th>\n",
              "      <td>Resort Hotel</td>\n",
              "      <td>0</td>\n",
              "      <td>342</td>\n",
              "      <td>2015</td>\n",
              "      <td>July</td>\n",
              "      <td>27</td>\n",
              "      <td>1</td>\n",
              "      <td>0</td>\n",
              "      <td>0</td>\n",
              "      <td>2</td>\n",
              "      <td>...</td>\n",
              "      <td>No Deposit</td>\n",
              "      <td>NaN</td>\n",
              "      <td>NaN</td>\n",
              "      <td>0</td>\n",
              "      <td>Transient</td>\n",
              "      <td>0.0</td>\n",
              "      <td>0</td>\n",
              "      <td>0</td>\n",
              "      <td>Check-Out</td>\n",
              "      <td>2015-07-01</td>\n",
              "    </tr>\n",
              "    <tr>\n",
              "      <th>1</th>\n",
              "      <td>Resort Hotel</td>\n",
              "      <td>0</td>\n",
              "      <td>737</td>\n",
              "      <td>2015</td>\n",
              "      <td>July</td>\n",
              "      <td>27</td>\n",
              "      <td>1</td>\n",
              "      <td>0</td>\n",
              "      <td>0</td>\n",
              "      <td>2</td>\n",
              "      <td>...</td>\n",
              "      <td>No Deposit</td>\n",
              "      <td>NaN</td>\n",
              "      <td>NaN</td>\n",
              "      <td>0</td>\n",
              "      <td>Transient</td>\n",
              "      <td>0.0</td>\n",
              "      <td>0</td>\n",
              "      <td>0</td>\n",
              "      <td>Check-Out</td>\n",
              "      <td>2015-07-01</td>\n",
              "    </tr>\n",
              "    <tr>\n",
              "      <th>2</th>\n",
              "      <td>Resort Hotel</td>\n",
              "      <td>0</td>\n",
              "      <td>7</td>\n",
              "      <td>2015</td>\n",
              "      <td>July</td>\n",
              "      <td>27</td>\n",
              "      <td>1</td>\n",
              "      <td>0</td>\n",
              "      <td>1</td>\n",
              "      <td>1</td>\n",
              "      <td>...</td>\n",
              "      <td>No Deposit</td>\n",
              "      <td>NaN</td>\n",
              "      <td>NaN</td>\n",
              "      <td>0</td>\n",
              "      <td>Transient</td>\n",
              "      <td>75.0</td>\n",
              "      <td>0</td>\n",
              "      <td>0</td>\n",
              "      <td>Check-Out</td>\n",
              "      <td>2015-07-02</td>\n",
              "    </tr>\n",
              "    <tr>\n",
              "      <th>3</th>\n",
              "      <td>Resort Hotel</td>\n",
              "      <td>0</td>\n",
              "      <td>13</td>\n",
              "      <td>2015</td>\n",
              "      <td>July</td>\n",
              "      <td>27</td>\n",
              "      <td>1</td>\n",
              "      <td>0</td>\n",
              "      <td>1</td>\n",
              "      <td>1</td>\n",
              "      <td>...</td>\n",
              "      <td>No Deposit</td>\n",
              "      <td>304.0</td>\n",
              "      <td>NaN</td>\n",
              "      <td>0</td>\n",
              "      <td>Transient</td>\n",
              "      <td>75.0</td>\n",
              "      <td>0</td>\n",
              "      <td>0</td>\n",
              "      <td>Check-Out</td>\n",
              "      <td>2015-07-02</td>\n",
              "    </tr>\n",
              "    <tr>\n",
              "      <th>4</th>\n",
              "      <td>Resort Hotel</td>\n",
              "      <td>0</td>\n",
              "      <td>14</td>\n",
              "      <td>2015</td>\n",
              "      <td>July</td>\n",
              "      <td>27</td>\n",
              "      <td>1</td>\n",
              "      <td>0</td>\n",
              "      <td>2</td>\n",
              "      <td>2</td>\n",
              "      <td>...</td>\n",
              "      <td>No Deposit</td>\n",
              "      <td>240.0</td>\n",
              "      <td>NaN</td>\n",
              "      <td>0</td>\n",
              "      <td>Transient</td>\n",
              "      <td>98.0</td>\n",
              "      <td>0</td>\n",
              "      <td>1</td>\n",
              "      <td>Check-Out</td>\n",
              "      <td>2015-07-03</td>\n",
              "    </tr>\n",
              "  </tbody>\n",
              "</table>\n",
              "<p>5 rows × 32 columns</p>\n",
              "</div>\n",
              "      <button class=\"colab-df-convert\" onclick=\"convertToInteractive('df-56714d99-e332-4ef2-a3c3-2fe174aacdc2')\"\n",
              "              title=\"Convert this dataframe to an interactive table.\"\n",
              "              style=\"display:none;\">\n",
              "        \n",
              "  <svg xmlns=\"http://www.w3.org/2000/svg\" height=\"24px\"viewBox=\"0 0 24 24\"\n",
              "       width=\"24px\">\n",
              "    <path d=\"M0 0h24v24H0V0z\" fill=\"none\"/>\n",
              "    <path d=\"M18.56 5.44l.94 2.06.94-2.06 2.06-.94-2.06-.94-.94-2.06-.94 2.06-2.06.94zm-11 1L8.5 8.5l.94-2.06 2.06-.94-2.06-.94L8.5 2.5l-.94 2.06-2.06.94zm10 10l.94 2.06.94-2.06 2.06-.94-2.06-.94-.94-2.06-.94 2.06-2.06.94z\"/><path d=\"M17.41 7.96l-1.37-1.37c-.4-.4-.92-.59-1.43-.59-.52 0-1.04.2-1.43.59L10.3 9.45l-7.72 7.72c-.78.78-.78 2.05 0 2.83L4 21.41c.39.39.9.59 1.41.59.51 0 1.02-.2 1.41-.59l7.78-7.78 2.81-2.81c.8-.78.8-2.07 0-2.86zM5.41 20L4 18.59l7.72-7.72 1.47 1.35L5.41 20z\"/>\n",
              "  </svg>\n",
              "      </button>\n",
              "      \n",
              "  <style>\n",
              "    .colab-df-container {\n",
              "      display:flex;\n",
              "      flex-wrap:wrap;\n",
              "      gap: 12px;\n",
              "    }\n",
              "\n",
              "    .colab-df-convert {\n",
              "      background-color: #E8F0FE;\n",
              "      border: none;\n",
              "      border-radius: 50%;\n",
              "      cursor: pointer;\n",
              "      display: none;\n",
              "      fill: #1967D2;\n",
              "      height: 32px;\n",
              "      padding: 0 0 0 0;\n",
              "      width: 32px;\n",
              "    }\n",
              "\n",
              "    .colab-df-convert:hover {\n",
              "      background-color: #E2EBFA;\n",
              "      box-shadow: 0px 1px 2px rgba(60, 64, 67, 0.3), 0px 1px 3px 1px rgba(60, 64, 67, 0.15);\n",
              "      fill: #174EA6;\n",
              "    }\n",
              "\n",
              "    [theme=dark] .colab-df-convert {\n",
              "      background-color: #3B4455;\n",
              "      fill: #D2E3FC;\n",
              "    }\n",
              "\n",
              "    [theme=dark] .colab-df-convert:hover {\n",
              "      background-color: #434B5C;\n",
              "      box-shadow: 0px 1px 3px 1px rgba(0, 0, 0, 0.15);\n",
              "      filter: drop-shadow(0px 1px 2px rgba(0, 0, 0, 0.3));\n",
              "      fill: #FFFFFF;\n",
              "    }\n",
              "  </style>\n",
              "\n",
              "      <script>\n",
              "        const buttonEl =\n",
              "          document.querySelector('#df-56714d99-e332-4ef2-a3c3-2fe174aacdc2 button.colab-df-convert');\n",
              "        buttonEl.style.display =\n",
              "          google.colab.kernel.accessAllowed ? 'block' : 'none';\n",
              "\n",
              "        async function convertToInteractive(key) {\n",
              "          const element = document.querySelector('#df-56714d99-e332-4ef2-a3c3-2fe174aacdc2');\n",
              "          const dataTable =\n",
              "            await google.colab.kernel.invokeFunction('convertToInteractive',\n",
              "                                                     [key], {});\n",
              "          if (!dataTable) return;\n",
              "\n",
              "          const docLinkHtml = 'Like what you see? Visit the ' +\n",
              "            '<a target=\"_blank\" href=https://colab.research.google.com/notebooks/data_table.ipynb>data table notebook</a>'\n",
              "            + ' to learn more about interactive tables.';\n",
              "          element.innerHTML = '';\n",
              "          dataTable['output_type'] = 'display_data';\n",
              "          await google.colab.output.renderOutput(dataTable, element);\n",
              "          const docLink = document.createElement('div');\n",
              "          docLink.innerHTML = docLinkHtml;\n",
              "          element.appendChild(docLink);\n",
              "        }\n",
              "      </script>\n",
              "    </div>\n",
              "  </div>\n",
              "  "
            ]
          },
          "metadata": {},
          "execution_count": 6
        }
      ]
    },
    {
      "cell_type": "code",
      "source": [
        "hotelbooking_df.info()"
      ],
      "metadata": {
        "colab": {
          "base_uri": "https://localhost:8080/"
        },
        "id": "tnonjvvuJ1A2",
        "outputId": "727db529-e334-478b-f87d-0b5200ff6367"
      },
      "execution_count": 7,
      "outputs": [
        {
          "output_type": "stream",
          "name": "stdout",
          "text": [
            "<class 'pandas.core.frame.DataFrame'>\n",
            "RangeIndex: 119390 entries, 0 to 119389\n",
            "Data columns (total 32 columns):\n",
            " #   Column                          Non-Null Count   Dtype  \n",
            "---  ------                          --------------   -----  \n",
            " 0   hotel                           119390 non-null  object \n",
            " 1   is_canceled                     119390 non-null  int64  \n",
            " 2   lead_time                       119390 non-null  int64  \n",
            " 3   arrival_date_year               119390 non-null  int64  \n",
            " 4   arrival_date_month              119390 non-null  object \n",
            " 5   arrival_date_week_number        119390 non-null  int64  \n",
            " 6   arrival_date_day_of_month       119390 non-null  int64  \n",
            " 7   stays_in_weekend_nights         119390 non-null  int64  \n",
            " 8   stays_in_week_nights            119390 non-null  int64  \n",
            " 9   adults                          119390 non-null  int64  \n",
            " 10  children                        119386 non-null  float64\n",
            " 11  babies                          119390 non-null  int64  \n",
            " 12  meal                            119390 non-null  object \n",
            " 13  country                         118902 non-null  object \n",
            " 14  market_segment                  119390 non-null  object \n",
            " 15  distribution_channel            119390 non-null  object \n",
            " 16  is_repeated_guest               119390 non-null  int64  \n",
            " 17  previous_cancellations          119390 non-null  int64  \n",
            " 18  previous_bookings_not_canceled  119390 non-null  int64  \n",
            " 19  reserved_room_type              119390 non-null  object \n",
            " 20  assigned_room_type              119390 non-null  object \n",
            " 21  booking_changes                 119390 non-null  int64  \n",
            " 22  deposit_type                    119390 non-null  object \n",
            " 23  agent                           103050 non-null  float64\n",
            " 24  company                         6797 non-null    float64\n",
            " 25  days_in_waiting_list            119390 non-null  int64  \n",
            " 26  customer_type                   119390 non-null  object \n",
            " 27  adr                             119390 non-null  float64\n",
            " 28  required_car_parking_spaces     119390 non-null  int64  \n",
            " 29  total_of_special_requests       119390 non-null  int64  \n",
            " 30  reservation_status              119390 non-null  object \n",
            " 31  reservation_status_date         119390 non-null  object \n",
            "dtypes: float64(4), int64(16), object(12)\n",
            "memory usage: 29.1+ MB\n"
          ]
        }
      ]
    },
    {
      "cell_type": "markdown",
      "source": [
        "We have total 32 columns and some columns like Children,Country,Company and Agent have null values."
      ],
      "metadata": {
        "id": "yim-MtWsIt5S"
      }
    },
    {
      "cell_type": "code",
      "source": [
        "hotelbooking_df.describe(include = 'all')"
      ],
      "metadata": {
        "colab": {
          "base_uri": "https://localhost:8080/",
          "height": 505
        },
        "id": "ChzT0KV9J1tR",
        "outputId": "7902f82d-72b1-497c-d4af-5292a0b2fa15"
      },
      "execution_count": 8,
      "outputs": [
        {
          "output_type": "execute_result",
          "data": {
            "text/plain": [
              "             hotel    is_canceled      lead_time  arrival_date_year  \\\n",
              "count       119390  119390.000000  119390.000000      119390.000000   \n",
              "unique           2            NaN            NaN                NaN   \n",
              "top     City Hotel            NaN            NaN                NaN   \n",
              "freq         79330            NaN            NaN                NaN   \n",
              "mean           NaN       0.370416     104.011416        2016.156554   \n",
              "std            NaN       0.482918     106.863097           0.707476   \n",
              "min            NaN       0.000000       0.000000        2015.000000   \n",
              "25%            NaN       0.000000      18.000000        2016.000000   \n",
              "50%            NaN       0.000000      69.000000        2016.000000   \n",
              "75%            NaN       1.000000     160.000000        2017.000000   \n",
              "max            NaN       1.000000     737.000000        2017.000000   \n",
              "\n",
              "       arrival_date_month  arrival_date_week_number  \\\n",
              "count              119390             119390.000000   \n",
              "unique                 12                       NaN   \n",
              "top                August                       NaN   \n",
              "freq                13877                       NaN   \n",
              "mean                  NaN                 27.165173   \n",
              "std                   NaN                 13.605138   \n",
              "min                   NaN                  1.000000   \n",
              "25%                   NaN                 16.000000   \n",
              "50%                   NaN                 28.000000   \n",
              "75%                   NaN                 38.000000   \n",
              "max                   NaN                 53.000000   \n",
              "\n",
              "        arrival_date_day_of_month  stays_in_weekend_nights  \\\n",
              "count               119390.000000            119390.000000   \n",
              "unique                        NaN                      NaN   \n",
              "top                           NaN                      NaN   \n",
              "freq                          NaN                      NaN   \n",
              "mean                    15.798241                 0.927599   \n",
              "std                      8.780829                 0.998613   \n",
              "min                      1.000000                 0.000000   \n",
              "25%                      8.000000                 0.000000   \n",
              "50%                     16.000000                 1.000000   \n",
              "75%                     23.000000                 2.000000   \n",
              "max                     31.000000                19.000000   \n",
              "\n",
              "        stays_in_week_nights         adults  ...  deposit_type          agent  \\\n",
              "count          119390.000000  119390.000000  ...        119390  103050.000000   \n",
              "unique                   NaN            NaN  ...             3            NaN   \n",
              "top                      NaN            NaN  ...    No Deposit            NaN   \n",
              "freq                     NaN            NaN  ...        104641            NaN   \n",
              "mean                2.500302       1.856403  ...           NaN      86.693382   \n",
              "std                 1.908286       0.579261  ...           NaN     110.774548   \n",
              "min                 0.000000       0.000000  ...           NaN       1.000000   \n",
              "25%                 1.000000       2.000000  ...           NaN       9.000000   \n",
              "50%                 2.000000       2.000000  ...           NaN      14.000000   \n",
              "75%                 3.000000       2.000000  ...           NaN     229.000000   \n",
              "max                50.000000      55.000000  ...           NaN     535.000000   \n",
              "\n",
              "            company days_in_waiting_list customer_type            adr  \\\n",
              "count   6797.000000        119390.000000        119390  119390.000000   \n",
              "unique          NaN                  NaN             4            NaN   \n",
              "top             NaN                  NaN     Transient            NaN   \n",
              "freq            NaN                  NaN         89613            NaN   \n",
              "mean     189.266735             2.321149           NaN     101.831122   \n",
              "std      131.655015            17.594721           NaN      50.535790   \n",
              "min        6.000000             0.000000           NaN      -6.380000   \n",
              "25%       62.000000             0.000000           NaN      69.290000   \n",
              "50%      179.000000             0.000000           NaN      94.575000   \n",
              "75%      270.000000             0.000000           NaN     126.000000   \n",
              "max      543.000000           391.000000           NaN    5400.000000   \n",
              "\n",
              "        required_car_parking_spaces  total_of_special_requests  \\\n",
              "count                 119390.000000              119390.000000   \n",
              "unique                          NaN                        NaN   \n",
              "top                             NaN                        NaN   \n",
              "freq                            NaN                        NaN   \n",
              "mean                       0.062518                   0.571363   \n",
              "std                        0.245291                   0.792798   \n",
              "min                        0.000000                   0.000000   \n",
              "25%                        0.000000                   0.000000   \n",
              "50%                        0.000000                   0.000000   \n",
              "75%                        0.000000                   1.000000   \n",
              "max                        8.000000                   5.000000   \n",
              "\n",
              "        reservation_status reservation_status_date  \n",
              "count               119390                  119390  \n",
              "unique                   3                     926  \n",
              "top              Check-Out              2015-10-21  \n",
              "freq                 75166                    1461  \n",
              "mean                   NaN                     NaN  \n",
              "std                    NaN                     NaN  \n",
              "min                    NaN                     NaN  \n",
              "25%                    NaN                     NaN  \n",
              "50%                    NaN                     NaN  \n",
              "75%                    NaN                     NaN  \n",
              "max                    NaN                     NaN  \n",
              "\n",
              "[11 rows x 32 columns]"
            ],
            "text/html": [
              "\n",
              "  <div id=\"df-9a215b7b-cb36-4287-afe3-7f829bd4d36d\">\n",
              "    <div class=\"colab-df-container\">\n",
              "      <div>\n",
              "<style scoped>\n",
              "    .dataframe tbody tr th:only-of-type {\n",
              "        vertical-align: middle;\n",
              "    }\n",
              "\n",
              "    .dataframe tbody tr th {\n",
              "        vertical-align: top;\n",
              "    }\n",
              "\n",
              "    .dataframe thead th {\n",
              "        text-align: right;\n",
              "    }\n",
              "</style>\n",
              "<table border=\"1\" class=\"dataframe\">\n",
              "  <thead>\n",
              "    <tr style=\"text-align: right;\">\n",
              "      <th></th>\n",
              "      <th>hotel</th>\n",
              "      <th>is_canceled</th>\n",
              "      <th>lead_time</th>\n",
              "      <th>arrival_date_year</th>\n",
              "      <th>arrival_date_month</th>\n",
              "      <th>arrival_date_week_number</th>\n",
              "      <th>arrival_date_day_of_month</th>\n",
              "      <th>stays_in_weekend_nights</th>\n",
              "      <th>stays_in_week_nights</th>\n",
              "      <th>adults</th>\n",
              "      <th>...</th>\n",
              "      <th>deposit_type</th>\n",
              "      <th>agent</th>\n",
              "      <th>company</th>\n",
              "      <th>days_in_waiting_list</th>\n",
              "      <th>customer_type</th>\n",
              "      <th>adr</th>\n",
              "      <th>required_car_parking_spaces</th>\n",
              "      <th>total_of_special_requests</th>\n",
              "      <th>reservation_status</th>\n",
              "      <th>reservation_status_date</th>\n",
              "    </tr>\n",
              "  </thead>\n",
              "  <tbody>\n",
              "    <tr>\n",
              "      <th>count</th>\n",
              "      <td>119390</td>\n",
              "      <td>119390.000000</td>\n",
              "      <td>119390.000000</td>\n",
              "      <td>119390.000000</td>\n",
              "      <td>119390</td>\n",
              "      <td>119390.000000</td>\n",
              "      <td>119390.000000</td>\n",
              "      <td>119390.000000</td>\n",
              "      <td>119390.000000</td>\n",
              "      <td>119390.000000</td>\n",
              "      <td>...</td>\n",
              "      <td>119390</td>\n",
              "      <td>103050.000000</td>\n",
              "      <td>6797.000000</td>\n",
              "      <td>119390.000000</td>\n",
              "      <td>119390</td>\n",
              "      <td>119390.000000</td>\n",
              "      <td>119390.000000</td>\n",
              "      <td>119390.000000</td>\n",
              "      <td>119390</td>\n",
              "      <td>119390</td>\n",
              "    </tr>\n",
              "    <tr>\n",
              "      <th>unique</th>\n",
              "      <td>2</td>\n",
              "      <td>NaN</td>\n",
              "      <td>NaN</td>\n",
              "      <td>NaN</td>\n",
              "      <td>12</td>\n",
              "      <td>NaN</td>\n",
              "      <td>NaN</td>\n",
              "      <td>NaN</td>\n",
              "      <td>NaN</td>\n",
              "      <td>NaN</td>\n",
              "      <td>...</td>\n",
              "      <td>3</td>\n",
              "      <td>NaN</td>\n",
              "      <td>NaN</td>\n",
              "      <td>NaN</td>\n",
              "      <td>4</td>\n",
              "      <td>NaN</td>\n",
              "      <td>NaN</td>\n",
              "      <td>NaN</td>\n",
              "      <td>3</td>\n",
              "      <td>926</td>\n",
              "    </tr>\n",
              "    <tr>\n",
              "      <th>top</th>\n",
              "      <td>City Hotel</td>\n",
              "      <td>NaN</td>\n",
              "      <td>NaN</td>\n",
              "      <td>NaN</td>\n",
              "      <td>August</td>\n",
              "      <td>NaN</td>\n",
              "      <td>NaN</td>\n",
              "      <td>NaN</td>\n",
              "      <td>NaN</td>\n",
              "      <td>NaN</td>\n",
              "      <td>...</td>\n",
              "      <td>No Deposit</td>\n",
              "      <td>NaN</td>\n",
              "      <td>NaN</td>\n",
              "      <td>NaN</td>\n",
              "      <td>Transient</td>\n",
              "      <td>NaN</td>\n",
              "      <td>NaN</td>\n",
              "      <td>NaN</td>\n",
              "      <td>Check-Out</td>\n",
              "      <td>2015-10-21</td>\n",
              "    </tr>\n",
              "    <tr>\n",
              "      <th>freq</th>\n",
              "      <td>79330</td>\n",
              "      <td>NaN</td>\n",
              "      <td>NaN</td>\n",
              "      <td>NaN</td>\n",
              "      <td>13877</td>\n",
              "      <td>NaN</td>\n",
              "      <td>NaN</td>\n",
              "      <td>NaN</td>\n",
              "      <td>NaN</td>\n",
              "      <td>NaN</td>\n",
              "      <td>...</td>\n",
              "      <td>104641</td>\n",
              "      <td>NaN</td>\n",
              "      <td>NaN</td>\n",
              "      <td>NaN</td>\n",
              "      <td>89613</td>\n",
              "      <td>NaN</td>\n",
              "      <td>NaN</td>\n",
              "      <td>NaN</td>\n",
              "      <td>75166</td>\n",
              "      <td>1461</td>\n",
              "    </tr>\n",
              "    <tr>\n",
              "      <th>mean</th>\n",
              "      <td>NaN</td>\n",
              "      <td>0.370416</td>\n",
              "      <td>104.011416</td>\n",
              "      <td>2016.156554</td>\n",
              "      <td>NaN</td>\n",
              "      <td>27.165173</td>\n",
              "      <td>15.798241</td>\n",
              "      <td>0.927599</td>\n",
              "      <td>2.500302</td>\n",
              "      <td>1.856403</td>\n",
              "      <td>...</td>\n",
              "      <td>NaN</td>\n",
              "      <td>86.693382</td>\n",
              "      <td>189.266735</td>\n",
              "      <td>2.321149</td>\n",
              "      <td>NaN</td>\n",
              "      <td>101.831122</td>\n",
              "      <td>0.062518</td>\n",
              "      <td>0.571363</td>\n",
              "      <td>NaN</td>\n",
              "      <td>NaN</td>\n",
              "    </tr>\n",
              "    <tr>\n",
              "      <th>std</th>\n",
              "      <td>NaN</td>\n",
              "      <td>0.482918</td>\n",
              "      <td>106.863097</td>\n",
              "      <td>0.707476</td>\n",
              "      <td>NaN</td>\n",
              "      <td>13.605138</td>\n",
              "      <td>8.780829</td>\n",
              "      <td>0.998613</td>\n",
              "      <td>1.908286</td>\n",
              "      <td>0.579261</td>\n",
              "      <td>...</td>\n",
              "      <td>NaN</td>\n",
              "      <td>110.774548</td>\n",
              "      <td>131.655015</td>\n",
              "      <td>17.594721</td>\n",
              "      <td>NaN</td>\n",
              "      <td>50.535790</td>\n",
              "      <td>0.245291</td>\n",
              "      <td>0.792798</td>\n",
              "      <td>NaN</td>\n",
              "      <td>NaN</td>\n",
              "    </tr>\n",
              "    <tr>\n",
              "      <th>min</th>\n",
              "      <td>NaN</td>\n",
              "      <td>0.000000</td>\n",
              "      <td>0.000000</td>\n",
              "      <td>2015.000000</td>\n",
              "      <td>NaN</td>\n",
              "      <td>1.000000</td>\n",
              "      <td>1.000000</td>\n",
              "      <td>0.000000</td>\n",
              "      <td>0.000000</td>\n",
              "      <td>0.000000</td>\n",
              "      <td>...</td>\n",
              "      <td>NaN</td>\n",
              "      <td>1.000000</td>\n",
              "      <td>6.000000</td>\n",
              "      <td>0.000000</td>\n",
              "      <td>NaN</td>\n",
              "      <td>-6.380000</td>\n",
              "      <td>0.000000</td>\n",
              "      <td>0.000000</td>\n",
              "      <td>NaN</td>\n",
              "      <td>NaN</td>\n",
              "    </tr>\n",
              "    <tr>\n",
              "      <th>25%</th>\n",
              "      <td>NaN</td>\n",
              "      <td>0.000000</td>\n",
              "      <td>18.000000</td>\n",
              "      <td>2016.000000</td>\n",
              "      <td>NaN</td>\n",
              "      <td>16.000000</td>\n",
              "      <td>8.000000</td>\n",
              "      <td>0.000000</td>\n",
              "      <td>1.000000</td>\n",
              "      <td>2.000000</td>\n",
              "      <td>...</td>\n",
              "      <td>NaN</td>\n",
              "      <td>9.000000</td>\n",
              "      <td>62.000000</td>\n",
              "      <td>0.000000</td>\n",
              "      <td>NaN</td>\n",
              "      <td>69.290000</td>\n",
              "      <td>0.000000</td>\n",
              "      <td>0.000000</td>\n",
              "      <td>NaN</td>\n",
              "      <td>NaN</td>\n",
              "    </tr>\n",
              "    <tr>\n",
              "      <th>50%</th>\n",
              "      <td>NaN</td>\n",
              "      <td>0.000000</td>\n",
              "      <td>69.000000</td>\n",
              "      <td>2016.000000</td>\n",
              "      <td>NaN</td>\n",
              "      <td>28.000000</td>\n",
              "      <td>16.000000</td>\n",
              "      <td>1.000000</td>\n",
              "      <td>2.000000</td>\n",
              "      <td>2.000000</td>\n",
              "      <td>...</td>\n",
              "      <td>NaN</td>\n",
              "      <td>14.000000</td>\n",
              "      <td>179.000000</td>\n",
              "      <td>0.000000</td>\n",
              "      <td>NaN</td>\n",
              "      <td>94.575000</td>\n",
              "      <td>0.000000</td>\n",
              "      <td>0.000000</td>\n",
              "      <td>NaN</td>\n",
              "      <td>NaN</td>\n",
              "    </tr>\n",
              "    <tr>\n",
              "      <th>75%</th>\n",
              "      <td>NaN</td>\n",
              "      <td>1.000000</td>\n",
              "      <td>160.000000</td>\n",
              "      <td>2017.000000</td>\n",
              "      <td>NaN</td>\n",
              "      <td>38.000000</td>\n",
              "      <td>23.000000</td>\n",
              "      <td>2.000000</td>\n",
              "      <td>3.000000</td>\n",
              "      <td>2.000000</td>\n",
              "      <td>...</td>\n",
              "      <td>NaN</td>\n",
              "      <td>229.000000</td>\n",
              "      <td>270.000000</td>\n",
              "      <td>0.000000</td>\n",
              "      <td>NaN</td>\n",
              "      <td>126.000000</td>\n",
              "      <td>0.000000</td>\n",
              "      <td>1.000000</td>\n",
              "      <td>NaN</td>\n",
              "      <td>NaN</td>\n",
              "    </tr>\n",
              "    <tr>\n",
              "      <th>max</th>\n",
              "      <td>NaN</td>\n",
              "      <td>1.000000</td>\n",
              "      <td>737.000000</td>\n",
              "      <td>2017.000000</td>\n",
              "      <td>NaN</td>\n",
              "      <td>53.000000</td>\n",
              "      <td>31.000000</td>\n",
              "      <td>19.000000</td>\n",
              "      <td>50.000000</td>\n",
              "      <td>55.000000</td>\n",
              "      <td>...</td>\n",
              "      <td>NaN</td>\n",
              "      <td>535.000000</td>\n",
              "      <td>543.000000</td>\n",
              "      <td>391.000000</td>\n",
              "      <td>NaN</td>\n",
              "      <td>5400.000000</td>\n",
              "      <td>8.000000</td>\n",
              "      <td>5.000000</td>\n",
              "      <td>NaN</td>\n",
              "      <td>NaN</td>\n",
              "    </tr>\n",
              "  </tbody>\n",
              "</table>\n",
              "<p>11 rows × 32 columns</p>\n",
              "</div>\n",
              "      <button class=\"colab-df-convert\" onclick=\"convertToInteractive('df-9a215b7b-cb36-4287-afe3-7f829bd4d36d')\"\n",
              "              title=\"Convert this dataframe to an interactive table.\"\n",
              "              style=\"display:none;\">\n",
              "        \n",
              "  <svg xmlns=\"http://www.w3.org/2000/svg\" height=\"24px\"viewBox=\"0 0 24 24\"\n",
              "       width=\"24px\">\n",
              "    <path d=\"M0 0h24v24H0V0z\" fill=\"none\"/>\n",
              "    <path d=\"M18.56 5.44l.94 2.06.94-2.06 2.06-.94-2.06-.94-.94-2.06-.94 2.06-2.06.94zm-11 1L8.5 8.5l.94-2.06 2.06-.94-2.06-.94L8.5 2.5l-.94 2.06-2.06.94zm10 10l.94 2.06.94-2.06 2.06-.94-2.06-.94-.94-2.06-.94 2.06-2.06.94z\"/><path d=\"M17.41 7.96l-1.37-1.37c-.4-.4-.92-.59-1.43-.59-.52 0-1.04.2-1.43.59L10.3 9.45l-7.72 7.72c-.78.78-.78 2.05 0 2.83L4 21.41c.39.39.9.59 1.41.59.51 0 1.02-.2 1.41-.59l7.78-7.78 2.81-2.81c.8-.78.8-2.07 0-2.86zM5.41 20L4 18.59l7.72-7.72 1.47 1.35L5.41 20z\"/>\n",
              "  </svg>\n",
              "      </button>\n",
              "      \n",
              "  <style>\n",
              "    .colab-df-container {\n",
              "      display:flex;\n",
              "      flex-wrap:wrap;\n",
              "      gap: 12px;\n",
              "    }\n",
              "\n",
              "    .colab-df-convert {\n",
              "      background-color: #E8F0FE;\n",
              "      border: none;\n",
              "      border-radius: 50%;\n",
              "      cursor: pointer;\n",
              "      display: none;\n",
              "      fill: #1967D2;\n",
              "      height: 32px;\n",
              "      padding: 0 0 0 0;\n",
              "      width: 32px;\n",
              "    }\n",
              "\n",
              "    .colab-df-convert:hover {\n",
              "      background-color: #E2EBFA;\n",
              "      box-shadow: 0px 1px 2px rgba(60, 64, 67, 0.3), 0px 1px 3px 1px rgba(60, 64, 67, 0.15);\n",
              "      fill: #174EA6;\n",
              "    }\n",
              "\n",
              "    [theme=dark] .colab-df-convert {\n",
              "      background-color: #3B4455;\n",
              "      fill: #D2E3FC;\n",
              "    }\n",
              "\n",
              "    [theme=dark] .colab-df-convert:hover {\n",
              "      background-color: #434B5C;\n",
              "      box-shadow: 0px 1px 3px 1px rgba(0, 0, 0, 0.15);\n",
              "      filter: drop-shadow(0px 1px 2px rgba(0, 0, 0, 0.3));\n",
              "      fill: #FFFFFF;\n",
              "    }\n",
              "  </style>\n",
              "\n",
              "      <script>\n",
              "        const buttonEl =\n",
              "          document.querySelector('#df-9a215b7b-cb36-4287-afe3-7f829bd4d36d button.colab-df-convert');\n",
              "        buttonEl.style.display =\n",
              "          google.colab.kernel.accessAllowed ? 'block' : 'none';\n",
              "\n",
              "        async function convertToInteractive(key) {\n",
              "          const element = document.querySelector('#df-9a215b7b-cb36-4287-afe3-7f829bd4d36d');\n",
              "          const dataTable =\n",
              "            await google.colab.kernel.invokeFunction('convertToInteractive',\n",
              "                                                     [key], {});\n",
              "          if (!dataTable) return;\n",
              "\n",
              "          const docLinkHtml = 'Like what you see? Visit the ' +\n",
              "            '<a target=\"_blank\" href=https://colab.research.google.com/notebooks/data_table.ipynb>data table notebook</a>'\n",
              "            + ' to learn more about interactive tables.';\n",
              "          element.innerHTML = '';\n",
              "          dataTable['output_type'] = 'display_data';\n",
              "          await google.colab.output.renderOutput(dataTable, element);\n",
              "          const docLink = document.createElement('div');\n",
              "          docLink.innerHTML = docLinkHtml;\n",
              "          element.appendChild(docLink);\n",
              "        }\n",
              "      </script>\n",
              "    </div>\n",
              "  </div>\n",
              "  "
            ]
          },
          "metadata": {},
          "execution_count": 8
        }
      ]
    },
    {
      "cell_type": "code",
      "source": [
        "# Creating a copy of dataframe\n",
        "hb_df = hotelbooking_df.copy()"
      ],
      "metadata": {
        "id": "MKP-jV0bKRtS"
      },
      "execution_count": 36,
      "outputs": []
    },
    {
      "cell_type": "markdown",
      "source": [
        "**Cleaning** **Data**"
      ],
      "metadata": {
        "id": "WhPhMqhOM26w"
      }
    },
    {
      "cell_type": "code",
      "source": [
        "# Show no. of duplicate rows\n",
        "\n",
        "hb_df[hb_df.duplicated()].shape"
      ],
      "metadata": {
        "colab": {
          "base_uri": "https://localhost:8080/"
        },
        "id": "qdIGq66MLhNw",
        "outputId": "3f5a3ede-50ec-45c7-e73e-9a80e295c8dc"
      },
      "execution_count": 37,
      "outputs": [
        {
          "output_type": "execute_result",
          "data": {
            "text/plain": [
              "(31994, 32)"
            ]
          },
          "metadata": {},
          "execution_count": 37
        }
      ]
    },
    {
      "cell_type": "code",
      "source": [
        "# Dropping duplicate rows\n",
        "\n",
        "hb_df.drop_duplicates(inplace = True)"
      ],
      "metadata": {
        "id": "OZxgsNCKcZ-c"
      },
      "execution_count": 38,
      "outputs": []
    },
    {
      "cell_type": "code",
      "source": [
        "hb_df.shape"
      ],
      "metadata": {
        "colab": {
          "base_uri": "https://localhost:8080/"
        },
        "id": "OJfu4RdQg3I0",
        "outputId": "4f902813-d2b5-4214-b143-68128d8f1f21"
      },
      "execution_count": 39,
      "outputs": [
        {
          "output_type": "execute_result",
          "data": {
            "text/plain": [
              "(87396, 32)"
            ]
          },
          "metadata": {},
          "execution_count": 39
        }
      ]
    },
    {
      "cell_type": "code",
      "source": [
        "#Columns having missing values\n",
        "\n",
        "hb_df.isnull().sum().sort_values(ascending = False)[0:5]"
      ],
      "metadata": {
        "colab": {
          "base_uri": "https://localhost:8080/"
        },
        "id": "7LWJak6qmA9D",
        "outputId": "21b2461d-e396-4df9-8616-368e81dfa334"
      },
      "execution_count": 40,
      "outputs": [
        {
          "output_type": "execute_result",
          "data": {
            "text/plain": [
              "company               82137\n",
              "agent                 12193\n",
              "country                 452\n",
              "children                  4\n",
              "reserved_room_type        0\n",
              "dtype: int64"
            ]
          },
          "metadata": {},
          "execution_count": 40
        }
      ]
    },
    {
      "cell_type": "code",
      "source": [
        "hb_df[['company','agent']] = hb_df[['company','agent']].fillna(0)"
      ],
      "metadata": {
        "id": "bLcbQvxgooU4"
      },
      "execution_count": 41,
      "outputs": []
    },
    {
      "cell_type": "code",
      "source": [
        "hb_df['children']= hb_df['children'].fillna(0)"
      ],
      "metadata": {
        "id": "mqAAQf_pJ3G0"
      },
      "execution_count": 42,
      "outputs": []
    },
    {
      "cell_type": "code",
      "source": [
        "hb_df['country'].fillna('others', inplace = True)"
      ],
      "metadata": {
        "id": "ncp6Ri1mp4sZ"
      },
      "execution_count": 43,
      "outputs": []
    },
    {
      "cell_type": "code",
      "source": [
        "hb_df.isnull().sum().sort_values(ascending = False)[0:5]"
      ],
      "metadata": {
        "colab": {
          "base_uri": "https://localhost:8080/"
        },
        "id": "OajrdhMhqg_W",
        "outputId": "c9b30896-98df-40d1-ce86-9a97c6beede3"
      },
      "execution_count": 44,
      "outputs": [
        {
          "output_type": "execute_result",
          "data": {
            "text/plain": [
              "hotel                          0\n",
              "is_canceled                    0\n",
              "reservation_status             0\n",
              "total_of_special_requests      0\n",
              "required_car_parking_spaces    0\n",
              "dtype: int64"
            ]
          },
          "metadata": {},
          "execution_count": 44
        }
      ]
    },
    {
      "cell_type": "markdown",
      "source": [
        "There are some rows with total number of adults, children or babies equal to zero. So we will remove such rows"
      ],
      "metadata": {
        "id": "B7qdMFCqHhgq"
      }
    },
    {
      "cell_type": "code",
      "source": [
        "hb_df[hb_df['adults']+hb_df['babies']+hb_df['children'] == 0].shape"
      ],
      "metadata": {
        "colab": {
          "base_uri": "https://localhost:8080/"
        },
        "id": "YX9SlEFyAXeY",
        "outputId": "d78285ab-e243-49b7-8bfa-5c03c5fbbba5"
      },
      "execution_count": 45,
      "outputs": [
        {
          "output_type": "execute_result",
          "data": {
            "text/plain": [
              "(166, 32)"
            ]
          },
          "metadata": {},
          "execution_count": 45
        }
      ]
    },
    {
      "cell_type": "code",
      "source": [
        "hb_df.drop(hb_df[hb_df['adults']+hb_df['babies']+hb_df['children'] == 0].index, inplace = True)"
      ],
      "metadata": {
        "id": "DzvPj9wJIMU8"
      },
      "execution_count": 46,
      "outputs": []
    },
    {
      "cell_type": "code",
      "source": [
        "# Converting datatype of columns 'children', 'company' and 'agent' from float to int.\n",
        "\n",
        "hb_df[['children', 'company', 'agent']] = hb_df[['children', 'company', 'agent']].astype('int64')"
      ],
      "metadata": {
        "id": "j-MMxU9sI55U"
      },
      "execution_count": 47,
      "outputs": []
    },
    {
      "cell_type": "code",
      "source": [
        "# Adding total staying days in hotels\n",
        "\n",
        "hb_df['total_stay'] = hb_df['stays_in_weekend_nights']+hb_df['stays_in_week_nights']\n",
        "\n",
        "# Adding total people num as column, i.e. total people num = num of adults + children + babies\n",
        "\n",
        "hb_df['total_people'] = hb_df['adults']+hb_df['children']+hb_df['babies']"
      ],
      "metadata": {
        "id": "FKn3WMliK9TR"
      },
      "execution_count": 48,
      "outputs": []
    }
  ]
}